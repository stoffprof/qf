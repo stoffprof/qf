{
 "cells": [
  {
   "cell_type": "markdown",
   "id": "cf94dcef-6be2-4612-9858-76e97a41e25b",
   "metadata": {},
   "source": [
    "# Quant interview problem"
   ]
  },
  {
   "cell_type": "markdown",
   "id": "c2123af4-92e2-43c8-8f5b-f5fb8c876944",
   "metadata": {},
   "source": [
    "The following is a sample problem from a quant interview presented in {cite:ts}`isichenko2021quantitative` (see page 62).\n",
    "\n",
    "Try to keep your thinking *flexible* while attempting to solve the equation. The solution does not require anything more than what you learned about the quadratic equation in high school."
   ]
  },
  {
   "cell_type": "markdown",
   "id": "343ffc1e-d082-42b1-95ce-cf4d951f1678",
   "metadata": {},
   "source": [
    ":::{admonition} Exercise\n",
    ":class: exercise\n",
    "\n",
    "Solve for x:\n",
    "\n",
    "$$\\sqrt{a-\\sqrt{a+x}}=x.$$\n",
    ":::"
   ]
  },
  {
   "cell_type": "markdown",
   "id": "3ff382c4-be02-4cc0-88c8-88811c479535",
   "metadata": {},
   "source": [
    ":::{admonition} Solution\n",
    ":class: solution, dropdown\n",
    "\n",
    "Begin by getting rid of the square-roots:\n",
    "\n",
    "\\begin{gather*}\n",
    "a-\\sqrt{a+x} = x^{2} \\\\\n",
    "a - x^2 = \\sqrt{a+x} \\\\\n",
    "a^2 - 2ax^2 + x^4 = a + x.\n",
    "\\end{gather*}\n",
    "\n",
    "At this point it may not be so obvious how to proceed. But if we try to think flexibly, we might notice that if we treat $a$ as the variable and $x$ as the parameter (rather than the more natural other way around), we can reorganize the equation as\n",
    "\n",
    "$$a^2 - \\left(1 + 2 x^2\\right) a + (x^4 - x) = 0$$\n",
    "\n",
    "so it fits the standard form of a quadratic equation in $a$\n",
    "\n",
    "$$\\alpha a^2 + \\beta a + \\gamma=0,$$\n",
    "\n",
    "with\n",
    "\n",
    "$$\\alpha=1, \\quad \\beta=-\\left(1 + 2 x^{2}\\right), \\quad \\gamma=x^{4}-x.$$\n",
    "\n",
    "Solving for $a$ with the roots of a quadratic equation,\n",
    "\n",
    "$$a=\\frac{\\left(1 + 2 x^{2}\\right) \\pm \\sqrt{\\left(1 + 2 x^{2}\\right)^{2}-4\\left(x^{4}-x\\right)}}{2}$$\n",
    "\n",
    "The part under the square-root is\n",
    "\n",
    "\\begin{align*}\n",
    "\\left(1 + 2 x^{2}\\right)^{2}-4\\left(x^{4}-x\\right) &= 1 + 4x^2 + 4x^4 - 4x^4 + 4x \\\\\n",
    "&= (2x+1)^2\n",
    "\\end{align*}\n",
    "\n",
    "Therefore,\n",
    "\n",
    "\\begin{equation*}\n",
    "a = \\frac{2x^2 + 1 \\pm (2x+1)}{2} = \n",
    "\\left\\{\\begin{matrix}\n",
    "x^{2}+x+1 \\\\\n",
    "x^{2}-x\n",
    "\\end{matrix}\\right.,\n",
    "\\end{equation*}\n",
    "\n",
    "so either \n",
    "\n",
    "$$x^{2}+x+1-a=0$$\n",
    "\n",
    "or\n",
    "\n",
    "$$x^{2}-x-a=0.$$\n",
    "\n",
    "The solutions to these two equations are, respectively,\n",
    "\n",
    "$$x = \\frac{-1 \\pm \\sqrt{1-4(1-a)}}{2} = \\frac{-1 \\pm \\sqrt{4a-3}}{2}$$\n",
    "\n",
    "and \n",
    "\n",
    "$$x=\\frac{1 \\pm \\sqrt{1+4a}}{2}.$$\n",
    "\n",
    "For real solutions, $x$ must be non-negative, so the first equation implies\n",
    "\n",
    "$$x = \\frac{\\sqrt{4a-3} - 1}{2}, \\quad a\\geq 1.$$\n",
    "\n",
    "Note that $a=0$, $x=0$ is also a solution. $\\blacksquare$\n",
    "\n",
    "As a quick verification, choose $a=7$. Then\n",
    "\n",
    "$$x = \\frac{\\sqrt{4a-3} - 1}{2} = 2$$\n",
    "\n",
    "and it is easy to verify that\n",
    "\n",
    "$$\\sqrt{7 - \\sqrt{7 + 2}} = 2.$$\n",
    "\n",
    ":::"
   ]
  },
  {
   "cell_type": "markdown",
   "id": "730b9ceb-736e-4ca7-af82-513d8981b802",
   "metadata": {},
   "source": [
    "Sympy can also solve problems like this:"
   ]
  },
  {
   "cell_type": "code",
   "execution_count": 2,
   "id": "18aac234-5cb8-47bd-bb66-2985ca6ab8e2",
   "metadata": {
    "tags": [
     "hide-cell"
    ]
   },
   "outputs": [
    {
     "data": {
      "text/plain": [
       "[1/2 - sqrt(4*a + 1)/2,\n",
       " -sqrt(4*a - 3)/2 - 1/2,\n",
       " sqrt(4*a - 3)/2 - 1/2,\n",
       " sqrt(4*a + 1)/2 + 1/2]"
      ]
     },
     "execution_count": 2,
     "metadata": {},
     "output_type": "execute_result"
    }
   ],
   "source": [
    "from sympy.solvers import solve\n",
    "from sympy import Symbol, sqrt\n",
    "\n",
    "a = Symbol('a')\n",
    "x = Symbol('x')\n",
    "\n",
    "solve(sqrt(a - sqrt(a+x)) - x, x)"
   ]
  }
 ],
 "metadata": {
  "kernelspec": {
   "display_name": "Python 3 (ipykernel)",
   "language": "python",
   "name": "python3"
  },
  "language_info": {
   "codemirror_mode": {
    "name": "ipython",
    "version": 3
   },
   "file_extension": ".py",
   "mimetype": "text/x-python",
   "name": "python",
   "nbconvert_exporter": "python",
   "pygments_lexer": "ipython3",
   "version": "3.9.18"
  }
 },
 "nbformat": 4,
 "nbformat_minor": 5
}
